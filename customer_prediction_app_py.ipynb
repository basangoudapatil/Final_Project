{
  "nbformat": 4,
  "nbformat_minor": 0,
  "metadata": {
    "colab": {
      "provenance": [],
      "authorship_tag": "ABX9TyPcombUeIRnvKe/X0cSU8L5",
      "include_colab_link": true
    },
    "kernelspec": {
      "name": "python3",
      "display_name": "Python 3"
    },
    "language_info": {
      "name": "python"
    }
  },
  "cells": [
    {
      "cell_type": "markdown",
      "metadata": {
        "id": "view-in-github",
        "colab_type": "text"
      },
      "source": [
        "<a href=\"https://colab.research.google.com/github/basangoudapatil/Final_Project/blob/main/customer_prediction_app_py.ipynb\" target=\"_parent\"><img src=\"https://colab.research.google.com/assets/colab-badge.svg\" alt=\"Open In Colab\"/></a>"
      ]
    },
    {
      "cell_type": "code",
      "source": [
        "# import pandas as pd\n",
        "# import numpy as np\n",
        "import pickle\n",
        "import streamlit as st\n",
        "\n",
        "km_classifier= pickle.load(open(\"km_class\", \"rb\"))\n",
        "\n",
        "\n",
        "def predict_class(Gender, Orders):\n",
        "    prediction = km_classifier.predict([[Gender, Orders]])\n",
        "    print(prediction)\n",
        "    return prediction\n",
        "\n",
        "\n",
        "def main():\n",
        "    st.title(\"Customer Prediction\")\n",
        "    Gender = st.text_input('Gender', 'Type Here')\n",
        "    Orders = st.text_input('Orders', 'Type Here')\n",
        "\n",
        "    result = ''\n",
        "    if st.button('Predict'):\n",
        "        result = predict_class(Gender, Orders)\n",
        "    st.success('The output is {}'.format(result))\n",
        "\n",
        "\n",
        "if __name__ == '__main__':\n",
        "    main()"
      ],
      "metadata": {
        "id": "OfD2UBoEKtDI"
      },
      "execution_count": null,
      "outputs": []
    }
  ]
}