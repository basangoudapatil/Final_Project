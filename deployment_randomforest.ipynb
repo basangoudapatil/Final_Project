{
  "nbformat": 4,
  "nbformat_minor": 0,
  "metadata": {
    "colab": {
      "provenance": [],
      "authorship_tag": "ABX9TyNU2IZavO3s+8iTlvYdyTTT",
      "include_colab_link": true
    },
    "kernelspec": {
      "name": "python3",
      "display_name": "Python 3"
    },
    "language_info": {
      "name": "python"
    }
  },
  "cells": [
    {
      "cell_type": "markdown",
      "metadata": {
        "id": "view-in-github",
        "colab_type": "text"
      },
      "source": [
        "<a href=\"https://colab.research.google.com/github/basangoudapatil/Final_Project/blob/main/deployment_randomforest.ipynb\" target=\"_parent\"><img src=\"https://colab.research.google.com/assets/colab-badge.svg\" alt=\"Open In Colab\"/></a>"
      ]
    },
    {
      "cell_type": "code",
      "execution_count": null,
      "metadata": {
        "id": "sdD86bkqLRbz"
      },
      "outputs": [],
      "source": [
        "# import pandas as pd\n",
        "# import numpy as np\n",
        "import pickle\n",
        "import streamlit as st\n",
        "\n",
        "randomforest_reg= pickle.load(open(\"D:/Data_Science/Final_Project/randomforest_reg\", \"rb\"))\n",
        "\n",
        "\n",
        "def predict_cancer(perimeter_worst, radius_worst, perimeter_mean, concave_points_worst):\n",
        "    prediction = randomforest_reg.predict([[perimeter_worst, radius_worst, perimeter_mean, concave_points_worst]])\n",
        "    print(prediction)\n",
        "    return prediction\n",
        "\n",
        "\n",
        "def main():\n",
        "    st.title(\"Cancer Prediction\")\n",
        "    perimeter_worst = st.text_input('perimeter_worst', 'Type Here')\n",
        "    radius_worst = st.text_input('radius_worst', 'Type Here')\n",
        "    perimeter_mean = st.text_input('perimeter_mean', 'Type Here')\n",
        "    concave_points_worst = st.text_input('concave_points_worst', 'Type Here')\n",
        "    result = ''\n",
        "    if st.button('Predict'):\n",
        "        result = predict_cancer(perimeter_worst, radius_worst, perimeter_mean, concave_points_worst)\n",
        "    st.success('The output is {}'.format(result))\n",
        "\n",
        "\n",
        "if __name__ == '__main__':\n",
        "    main()"
      ]
    }
  ]
}